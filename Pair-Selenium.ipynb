{
 "cells": [
  {
   "cell_type": "code",
   "execution_count": 1,
   "metadata": {},
   "outputs": [],
   "source": [
    "\n",
    "import pandas as pd \n",
    "\n",
    "\n",
    "import requests\n",
    "\n",
    "from selenium import webdriver  \n",
    "from webdriver_manager.chrome import ChromeDriverManager  \n",
    "from selenium.webdriver.common.keys import Keys  \n",
    "from selenium.webdriver.support.ui import Select  \n",
    "\n",
    "\n",
    "from time import sleep  \n",
    "\n",
    "pd.set_option('display.max_columns', None)  \n"
   ]
  },
  {
   "cell_type": "code",
   "execution_count": 12,
   "metadata": {},
   "outputs": [],
   "source": [
    "import pandas as pd"
   ]
  },
  {
   "cell_type": "code",
   "execution_count": 15,
   "metadata": {},
   "outputs": [
    {
     "name": "stdout",
     "output_type": "stream",
     "text": [
      "{'titulo': ['EL FAMILIAR (PRIMERA EDICIÓN ESPECIAL) (EDICIÓN LIMITADA)'], 'autor': [], 'precio_original': [], 'precio_descuento': [], 'editorial': [], 'idioma': [], 'num_paginas': []}\n",
      "{'titulo': ['EL FAMILIAR (PRIMERA EDICIÓN ESPECIAL) (EDICIÓN LIMITADA)'], 'autor': ['LEIGH BARDUGO'], 'precio_original': [], 'precio_descuento': [], 'editorial': [], 'idioma': [], 'num_paginas': []}\n",
      "{'titulo': ['EL FAMILIAR (PRIMERA EDICIÓN ESPECIAL) (EDICIÓN LIMITADA)'], 'autor': ['LEIGH BARDUGO'], 'precio_original': ['24,50 €'], 'precio_descuento': [], 'editorial': [], 'idioma': [], 'num_paginas': []}\n",
      "{'titulo': ['EL FAMILIAR (PRIMERA EDICIÓN ESPECIAL) (EDICIÓN LIMITADA)'], 'autor': ['LEIGH BARDUGO'], 'precio_original': ['24,50 €'], 'precio_descuento': ['23,27 €'], 'editorial': [], 'idioma': [], 'num_paginas': []}\n",
      "{'titulo': ['EL FAMILIAR (PRIMERA EDICIÓN ESPECIAL) (EDICIÓN LIMITADA)'], 'autor': ['LEIGH BARDUGO'], 'precio_original': ['24,50 €'], 'precio_descuento': ['23,27 €'], 'editorial': ['HIDRA'], 'idioma': [], 'num_paginas': []}\n",
      "{'titulo': ['EL FAMILIAR (PRIMERA EDICIÓN ESPECIAL) (EDICIÓN LIMITADA)', 'ANSIA'], 'autor': ['LEIGH BARDUGO'], 'precio_original': ['24,50 €'], 'precio_descuento': ['23,27 €'], 'editorial': ['HIDRA'], 'idioma': ['castellano'], 'num_paginas': ['456']}\n",
      "{'titulo': ['EL FAMILIAR (PRIMERA EDICIÓN ESPECIAL) (EDICIÓN LIMITADA)', 'ANSIA'], 'autor': ['LEIGH BARDUGO', 'HENAR ALVAREZ'], 'precio_original': ['24,50 €'], 'precio_descuento': ['23,27 €'], 'editorial': ['HIDRA'], 'idioma': ['castellano'], 'num_paginas': ['456']}\n",
      "{'titulo': ['EL FAMILIAR (PRIMERA EDICIÓN ESPECIAL) (EDICIÓN LIMITADA)', 'ANSIA'], 'autor': ['LEIGH BARDUGO', 'HENAR ALVAREZ'], 'precio_original': ['24,50 €', '19,90 €'], 'precio_descuento': ['23,27 €'], 'editorial': ['HIDRA'], 'idioma': ['castellano'], 'num_paginas': ['456']}\n",
      "{'titulo': ['EL FAMILIAR (PRIMERA EDICIÓN ESPECIAL) (EDICIÓN LIMITADA)', 'ANSIA'], 'autor': ['LEIGH BARDUGO', 'HENAR ALVAREZ'], 'precio_original': ['24,50 €', '19,90 €'], 'precio_descuento': ['23,27 €', '18,90 €'], 'editorial': ['HIDRA'], 'idioma': ['castellano'], 'num_paginas': ['456']}\n",
      "{'titulo': ['EL FAMILIAR (PRIMERA EDICIÓN ESPECIAL) (EDICIÓN LIMITADA)', 'ANSIA'], 'autor': ['LEIGH BARDUGO', 'HENAR ALVAREZ'], 'precio_original': ['24,50 €', '19,90 €'], 'precio_descuento': ['23,27 €', '18,90 €'], 'editorial': ['HIDRA', 'Editorial Planeta'], 'idioma': ['castellano'], 'num_paginas': ['456']}\n",
      "{'titulo': ['EL FAMILIAR (PRIMERA EDICIÓN ESPECIAL) (EDICIÓN LIMITADA)', 'ANSIA', 'BAUMGARTNER'], 'autor': ['LEIGH BARDUGO', 'HENAR ALVAREZ'], 'precio_original': ['24,50 €', '19,90 €'], 'precio_descuento': ['23,27 €', '18,90 €'], 'editorial': ['HIDRA', 'Editorial Planeta'], 'idioma': ['castellano', 'Desconocido'], 'num_paginas': ['456', 'desconocido']}\n",
      "{'titulo': ['EL FAMILIAR (PRIMERA EDICIÓN ESPECIAL) (EDICIÓN LIMITADA)', 'ANSIA', 'BAUMGARTNER'], 'autor': ['LEIGH BARDUGO', 'HENAR ALVAREZ', 'PAUL AUSTER'], 'precio_original': ['24,50 €', '19,90 €'], 'precio_descuento': ['23,27 €', '18,90 €'], 'editorial': ['HIDRA', 'Editorial Planeta'], 'idioma': ['castellano', 'Desconocido'], 'num_paginas': ['456', 'desconocido']}\n",
      "{'titulo': ['EL FAMILIAR (PRIMERA EDICIÓN ESPECIAL) (EDICIÓN LIMITADA)', 'ANSIA', 'BAUMGARTNER'], 'autor': ['LEIGH BARDUGO', 'HENAR ALVAREZ', 'PAUL AUSTER'], 'precio_original': ['24,50 €', '19,90 €', '20,90 €'], 'precio_descuento': ['23,27 €', '18,90 €'], 'editorial': ['HIDRA', 'Editorial Planeta'], 'idioma': ['castellano', 'Desconocido'], 'num_paginas': ['456', 'desconocido']}\n",
      "{'titulo': ['EL FAMILIAR (PRIMERA EDICIÓN ESPECIAL) (EDICIÓN LIMITADA)', 'ANSIA', 'BAUMGARTNER'], 'autor': ['LEIGH BARDUGO', 'HENAR ALVAREZ', 'PAUL AUSTER'], 'precio_original': ['24,50 €', '19,90 €', '20,90 €'], 'precio_descuento': ['23,27 €', '18,90 €', '19,85 €'], 'editorial': ['HIDRA', 'Editorial Planeta'], 'idioma': ['castellano', 'Desconocido'], 'num_paginas': ['456', 'desconocido']}\n",
      "{'titulo': ['EL FAMILIAR (PRIMERA EDICIÓN ESPECIAL) (EDICIÓN LIMITADA)', 'ANSIA', 'BAUMGARTNER'], 'autor': ['LEIGH BARDUGO', 'HENAR ALVAREZ', 'PAUL AUSTER'], 'precio_original': ['24,50 €', '19,90 €', '20,90 €'], 'precio_descuento': ['23,27 €', '18,90 €', '19,85 €'], 'editorial': ['HIDRA', 'Editorial Planeta', 'Seix Barral'], 'idioma': ['castellano', 'Desconocido'], 'num_paginas': ['456', 'desconocido']}\n",
      "{'titulo': ['EL FAMILIAR (PRIMERA EDICIÓN ESPECIAL) (EDICIÓN LIMITADA)', 'ANSIA', 'BAUMGARTNER', 'LA REPÚBLICA DEL DRAGÓN'], 'autor': ['LEIGH BARDUGO', 'HENAR ALVAREZ', 'PAUL AUSTER'], 'precio_original': ['24,50 €', '19,90 €', '20,90 €'], 'precio_descuento': ['23,27 €', '18,90 €', '19,85 €'], 'editorial': ['HIDRA', 'Editorial Planeta', 'Seix Barral'], 'idioma': ['castellano', 'Desconocido', 'castellano'], 'num_paginas': ['456', 'desconocido', '264']}\n",
      "{'titulo': ['EL FAMILIAR (PRIMERA EDICIÓN ESPECIAL) (EDICIÓN LIMITADA)', 'ANSIA', 'BAUMGARTNER', 'LA REPÚBLICA DEL DRAGÓN'], 'autor': ['LEIGH BARDUGO', 'HENAR ALVAREZ', 'PAUL AUSTER', 'R. F. KUANG'], 'precio_original': ['24,50 €', '19,90 €', '20,90 €'], 'precio_descuento': ['23,27 €', '18,90 €', '19,85 €'], 'editorial': ['HIDRA', 'Editorial Planeta', 'Seix Barral'], 'idioma': ['castellano', 'Desconocido', 'castellano'], 'num_paginas': ['456', 'desconocido', '264']}\n",
      "{'titulo': ['EL FAMILIAR (PRIMERA EDICIÓN ESPECIAL) (EDICIÓN LIMITADA)', 'ANSIA', 'BAUMGARTNER', 'LA REPÚBLICA DEL DRAGÓN'], 'autor': ['LEIGH BARDUGO', 'HENAR ALVAREZ', 'PAUL AUSTER', 'R. F. KUANG'], 'precio_original': ['24,50 €', '19,90 €', '20,90 €', '24,00 €'], 'precio_descuento': ['23,27 €', '18,90 €', '19,85 €'], 'editorial': ['HIDRA', 'Editorial Planeta', 'Seix Barral'], 'idioma': ['castellano', 'Desconocido', 'castellano'], 'num_paginas': ['456', 'desconocido', '264']}\n",
      "{'titulo': ['EL FAMILIAR (PRIMERA EDICIÓN ESPECIAL) (EDICIÓN LIMITADA)', 'ANSIA', 'BAUMGARTNER', 'LA REPÚBLICA DEL DRAGÓN'], 'autor': ['LEIGH BARDUGO', 'HENAR ALVAREZ', 'PAUL AUSTER', 'R. F. KUANG'], 'precio_original': ['24,50 €', '19,90 €', '20,90 €', '24,00 €'], 'precio_descuento': ['23,27 €', '18,90 €', '19,85 €', '22,80 €'], 'editorial': ['HIDRA', 'Editorial Planeta', 'Seix Barral'], 'idioma': ['castellano', 'Desconocido', 'castellano'], 'num_paginas': ['456', 'desconocido', '264']}\n",
      "{'titulo': ['EL FAMILIAR (PRIMERA EDICIÓN ESPECIAL) (EDICIÓN LIMITADA)', 'ANSIA', 'BAUMGARTNER', 'LA REPÚBLICA DEL DRAGÓN'], 'autor': ['LEIGH BARDUGO', 'HENAR ALVAREZ', 'PAUL AUSTER', 'R. F. KUANG'], 'precio_original': ['24,50 €', '19,90 €', '20,90 €', '24,00 €'], 'precio_descuento': ['23,27 €', '18,90 €', '19,85 €', '22,80 €'], 'editorial': ['HIDRA', 'Editorial Planeta', 'Seix Barral', 'Editorial Hidra'], 'idioma': ['castellano', 'Desconocido', 'castellano'], 'num_paginas': ['456', 'desconocido', '264']}\n",
      "{'titulo': ['EL FAMILIAR (PRIMERA EDICIÓN ESPECIAL) (EDICIÓN LIMITADA)', 'ANSIA', 'BAUMGARTNER', 'LA REPÚBLICA DEL DRAGÓN', 'LAS GUERRERAS MAXWELL, 9. LIBRE COMO EL VIENTO'], 'autor': ['LEIGH BARDUGO', 'HENAR ALVAREZ', 'PAUL AUSTER', 'R. F. KUANG'], 'precio_original': ['24,50 €', '19,90 €', '20,90 €', '24,00 €'], 'precio_descuento': ['23,27 €', '18,90 €', '19,85 €', '22,80 €'], 'editorial': ['HIDRA', 'Editorial Planeta', 'Seix Barral', 'Editorial Hidra'], 'idioma': ['castellano', 'Desconocido', 'castellano', 'castellano'], 'num_paginas': ['456', 'desconocido', '264', '792']}\n",
      "{'titulo': ['EL FAMILIAR (PRIMERA EDICIÓN ESPECIAL) (EDICIÓN LIMITADA)', 'ANSIA', 'BAUMGARTNER', 'LA REPÚBLICA DEL DRAGÓN', 'LAS GUERRERAS MAXWELL, 9. LIBRE COMO EL VIENTO'], 'autor': ['LEIGH BARDUGO', 'HENAR ALVAREZ', 'PAUL AUSTER', 'R. F. KUANG', 'MEGAN MAXWELL'], 'precio_original': ['24,50 €', '19,90 €', '20,90 €', '24,00 €'], 'precio_descuento': ['23,27 €', '18,90 €', '19,85 €', '22,80 €'], 'editorial': ['HIDRA', 'Editorial Planeta', 'Seix Barral', 'Editorial Hidra'], 'idioma': ['castellano', 'Desconocido', 'castellano', 'castellano'], 'num_paginas': ['456', 'desconocido', '264', '792']}\n",
      "{'titulo': ['EL FAMILIAR (PRIMERA EDICIÓN ESPECIAL) (EDICIÓN LIMITADA)', 'ANSIA', 'BAUMGARTNER', 'LA REPÚBLICA DEL DRAGÓN', 'LAS GUERRERAS MAXWELL, 9. LIBRE COMO EL VIENTO'], 'autor': ['LEIGH BARDUGO', 'HENAR ALVAREZ', 'PAUL AUSTER', 'R. F. KUANG', 'MEGAN MAXWELL'], 'precio_original': ['24,50 €', '19,90 €', '20,90 €', '24,00 €', '18,00 €'], 'precio_descuento': ['23,27 €', '18,90 €', '19,85 €', '22,80 €'], 'editorial': ['HIDRA', 'Editorial Planeta', 'Seix Barral', 'Editorial Hidra'], 'idioma': ['castellano', 'Desconocido', 'castellano', 'castellano'], 'num_paginas': ['456', 'desconocido', '264', '792']}\n",
      "{'titulo': ['EL FAMILIAR (PRIMERA EDICIÓN ESPECIAL) (EDICIÓN LIMITADA)', 'ANSIA', 'BAUMGARTNER', 'LA REPÚBLICA DEL DRAGÓN', 'LAS GUERRERAS MAXWELL, 9. LIBRE COMO EL VIENTO'], 'autor': ['LEIGH BARDUGO', 'HENAR ALVAREZ', 'PAUL AUSTER', 'R. F. KUANG', 'MEGAN MAXWELL'], 'precio_original': ['24,50 €', '19,90 €', '20,90 €', '24,00 €', '18,00 €'], 'precio_descuento': ['23,27 €', '18,90 €', '19,85 €', '22,80 €', '17,10 €'], 'editorial': ['HIDRA', 'Editorial Planeta', 'Seix Barral', 'Editorial Hidra'], 'idioma': ['castellano', 'Desconocido', 'castellano', 'castellano'], 'num_paginas': ['456', 'desconocido', '264', '792']}\n",
      "{'titulo': ['EL FAMILIAR (PRIMERA EDICIÓN ESPECIAL) (EDICIÓN LIMITADA)', 'ANSIA', 'BAUMGARTNER', 'LA REPÚBLICA DEL DRAGÓN', 'LAS GUERRERAS MAXWELL, 9. LIBRE COMO EL VIENTO'], 'autor': ['LEIGH BARDUGO', 'HENAR ALVAREZ', 'PAUL AUSTER', 'R. F. KUANG', 'MEGAN MAXWELL'], 'precio_original': ['24,50 €', '19,90 €', '20,90 €', '24,00 €', '18,00 €'], 'precio_descuento': ['23,27 €', '18,90 €', '19,85 €', '22,80 €', '17,10 €'], 'editorial': ['HIDRA', 'Editorial Planeta', 'Seix Barral', 'Editorial Hidra', 'Esencia'], 'idioma': ['castellano', 'Desconocido', 'castellano', 'castellano'], 'num_paginas': ['456', 'desconocido', '264', '792']}\n",
      "{'titulo': ['EL FAMILIAR (PRIMERA EDICIÓN ESPECIAL) (EDICIÓN LIMITADA)', 'ANSIA', 'BAUMGARTNER', 'LA REPÚBLICA DEL DRAGÓN', 'LAS GUERRERAS MAXWELL, 9. LIBRE COMO EL VIENTO', 'EN AGOSTO NOS VEMOS'], 'autor': ['LEIGH BARDUGO', 'HENAR ALVAREZ', 'PAUL AUSTER', 'R. F. KUANG', 'MEGAN MAXWELL'], 'precio_original': ['24,50 €', '19,90 €', '20,90 €', '24,00 €', '18,00 €'], 'precio_descuento': ['23,27 €', '18,90 €', '19,85 €', '22,80 €', '17,10 €'], 'editorial': ['HIDRA', 'Editorial Planeta', 'Seix Barral', 'Editorial Hidra', 'Esencia'], 'idioma': ['castellano', 'Desconocido', 'castellano', 'castellano', 'Desconocido'], 'num_paginas': ['456', 'desconocido', '264', '792', 'desconocido']}\n",
      "{'titulo': ['EL FAMILIAR (PRIMERA EDICIÓN ESPECIAL) (EDICIÓN LIMITADA)', 'ANSIA', 'BAUMGARTNER', 'LA REPÚBLICA DEL DRAGÓN', 'LAS GUERRERAS MAXWELL, 9. LIBRE COMO EL VIENTO', 'EN AGOSTO NOS VEMOS'], 'autor': ['LEIGH BARDUGO', 'HENAR ALVAREZ', 'PAUL AUSTER', 'R. F. KUANG', 'MEGAN MAXWELL', 'GABRIEL GARCIA MARQUEZ'], 'precio_original': ['24,50 €', '19,90 €', '20,90 €', '24,00 €', '18,00 €'], 'precio_descuento': ['23,27 €', '18,90 €', '19,85 €', '22,80 €', '17,10 €'], 'editorial': ['HIDRA', 'Editorial Planeta', 'Seix Barral', 'Editorial Hidra', 'Esencia'], 'idioma': ['castellano', 'Desconocido', 'castellano', 'castellano', 'Desconocido'], 'num_paginas': ['456', 'desconocido', '264', '792', 'desconocido']}\n",
      "{'titulo': ['EL FAMILIAR (PRIMERA EDICIÓN ESPECIAL) (EDICIÓN LIMITADA)', 'ANSIA', 'BAUMGARTNER', 'LA REPÚBLICA DEL DRAGÓN', 'LAS GUERRERAS MAXWELL, 9. LIBRE COMO EL VIENTO', 'EN AGOSTO NOS VEMOS'], 'autor': ['LEIGH BARDUGO', 'HENAR ALVAREZ', 'PAUL AUSTER', 'R. F. KUANG', 'MEGAN MAXWELL', 'GABRIEL GARCIA MARQUEZ'], 'precio_original': ['24,50 €', '19,90 €', '20,90 €', '24,00 €', '18,00 €', '19,90 €'], 'precio_descuento': ['23,27 €', '18,90 €', '19,85 €', '22,80 €', '17,10 €'], 'editorial': ['HIDRA', 'Editorial Planeta', 'Seix Barral', 'Editorial Hidra', 'Esencia'], 'idioma': ['castellano', 'Desconocido', 'castellano', 'castellano', 'Desconocido'], 'num_paginas': ['456', 'desconocido', '264', '792', 'desconocido']}\n",
      "{'titulo': ['EL FAMILIAR (PRIMERA EDICIÓN ESPECIAL) (EDICIÓN LIMITADA)', 'ANSIA', 'BAUMGARTNER', 'LA REPÚBLICA DEL DRAGÓN', 'LAS GUERRERAS MAXWELL, 9. LIBRE COMO EL VIENTO', 'EN AGOSTO NOS VEMOS'], 'autor': ['LEIGH BARDUGO', 'HENAR ALVAREZ', 'PAUL AUSTER', 'R. F. KUANG', 'MEGAN MAXWELL', 'GABRIEL GARCIA MARQUEZ'], 'precio_original': ['24,50 €', '19,90 €', '20,90 €', '24,00 €', '18,00 €', '19,90 €'], 'precio_descuento': ['23,27 €', '18,90 €', '19,85 €', '22,80 €', '17,10 €', '18,90 €'], 'editorial': ['HIDRA', 'Editorial Planeta', 'Seix Barral', 'Editorial Hidra', 'Esencia'], 'idioma': ['castellano', 'Desconocido', 'castellano', 'castellano', 'Desconocido'], 'num_paginas': ['456', 'desconocido', '264', '792', 'desconocido']}\n",
      "{'titulo': ['EL FAMILIAR (PRIMERA EDICIÓN ESPECIAL) (EDICIÓN LIMITADA)', 'ANSIA', 'BAUMGARTNER', 'LA REPÚBLICA DEL DRAGÓN', 'LAS GUERRERAS MAXWELL, 9. LIBRE COMO EL VIENTO', 'EN AGOSTO NOS VEMOS'], 'autor': ['LEIGH BARDUGO', 'HENAR ALVAREZ', 'PAUL AUSTER', 'R. F. KUANG', 'MEGAN MAXWELL', 'GABRIEL GARCIA MARQUEZ'], 'precio_original': ['24,50 €', '19,90 €', '20,90 €', '24,00 €', '18,00 €', '19,90 €'], 'precio_descuento': ['23,27 €', '18,90 €', '19,85 €', '22,80 €', '17,10 €', '18,90 €'], 'editorial': ['HIDRA', 'Editorial Planeta', 'Seix Barral', 'Editorial Hidra', 'Esencia', 'Random House'], 'idioma': ['castellano', 'Desconocido', 'castellano', 'castellano', 'Desconocido'], 'num_paginas': ['456', 'desconocido', '264', '792', 'desconocido']}\n",
      "{'titulo': ['EL FAMILIAR (PRIMERA EDICIÓN ESPECIAL) (EDICIÓN LIMITADA)', 'ANSIA', 'BAUMGARTNER', 'LA REPÚBLICA DEL DRAGÓN', 'LAS GUERRERAS MAXWELL, 9. LIBRE COMO EL VIENTO', 'EN AGOSTO NOS VEMOS', 'LA CIUDAD Y SUS MUROS INCIERTOS'], 'autor': ['LEIGH BARDUGO', 'HENAR ALVAREZ', 'PAUL AUSTER', 'R. F. KUANG', 'MEGAN MAXWELL', 'GABRIEL GARCIA MARQUEZ'], 'precio_original': ['24,50 €', '19,90 €', '20,90 €', '24,00 €', '18,00 €', '19,90 €'], 'precio_descuento': ['23,27 €', '18,90 €', '19,85 €', '22,80 €', '17,10 €', '18,90 €'], 'editorial': ['HIDRA', 'Editorial Planeta', 'Seix Barral', 'Editorial Hidra', 'Esencia', 'Random House'], 'idioma': ['castellano', 'Desconocido', 'castellano', 'castellano', 'Desconocido', 'castellano'], 'num_paginas': ['456', 'desconocido', '264', '792', 'desconocido', '120']}\n",
      "{'titulo': ['EL FAMILIAR (PRIMERA EDICIÓN ESPECIAL) (EDICIÓN LIMITADA)', 'ANSIA', 'BAUMGARTNER', 'LA REPÚBLICA DEL DRAGÓN', 'LAS GUERRERAS MAXWELL, 9. LIBRE COMO EL VIENTO', 'EN AGOSTO NOS VEMOS', 'LA CIUDAD Y SUS MUROS INCIERTOS'], 'autor': ['LEIGH BARDUGO', 'HENAR ALVAREZ', 'PAUL AUSTER', 'R. F. KUANG', 'MEGAN MAXWELL', 'GABRIEL GARCIA MARQUEZ', 'HARUKI MURAKAMI'], 'precio_original': ['24,50 €', '19,90 €', '20,90 €', '24,00 €', '18,00 €', '19,90 €'], 'precio_descuento': ['23,27 €', '18,90 €', '19,85 €', '22,80 €', '17,10 €', '18,90 €'], 'editorial': ['HIDRA', 'Editorial Planeta', 'Seix Barral', 'Editorial Hidra', 'Esencia', 'Random House'], 'idioma': ['castellano', 'Desconocido', 'castellano', 'castellano', 'Desconocido', 'castellano'], 'num_paginas': ['456', 'desconocido', '264', '792', 'desconocido', '120']}\n",
      "{'titulo': ['EL FAMILIAR (PRIMERA EDICIÓN ESPECIAL) (EDICIÓN LIMITADA)', 'ANSIA', 'BAUMGARTNER', 'LA REPÚBLICA DEL DRAGÓN', 'LAS GUERRERAS MAXWELL, 9. LIBRE COMO EL VIENTO', 'EN AGOSTO NOS VEMOS', 'LA CIUDAD Y SUS MUROS INCIERTOS'], 'autor': ['LEIGH BARDUGO', 'HENAR ALVAREZ', 'PAUL AUSTER', 'R. F. KUANG', 'MEGAN MAXWELL', 'GABRIEL GARCIA MARQUEZ', 'HARUKI MURAKAMI'], 'precio_original': ['24,50 €', '19,90 €', '20,90 €', '24,00 €', '18,00 €', '19,90 €', '22,90 €'], 'precio_descuento': ['23,27 €', '18,90 €', '19,85 €', '22,80 €', '17,10 €', '18,90 €'], 'editorial': ['HIDRA', 'Editorial Planeta', 'Seix Barral', 'Editorial Hidra', 'Esencia', 'Random House'], 'idioma': ['castellano', 'Desconocido', 'castellano', 'castellano', 'Desconocido', 'castellano'], 'num_paginas': ['456', 'desconocido', '264', '792', 'desconocido', '120']}\n",
      "{'titulo': ['EL FAMILIAR (PRIMERA EDICIÓN ESPECIAL) (EDICIÓN LIMITADA)', 'ANSIA', 'BAUMGARTNER', 'LA REPÚBLICA DEL DRAGÓN', 'LAS GUERRERAS MAXWELL, 9. LIBRE COMO EL VIENTO', 'EN AGOSTO NOS VEMOS', 'LA CIUDAD Y SUS MUROS INCIERTOS'], 'autor': ['LEIGH BARDUGO', 'HENAR ALVAREZ', 'PAUL AUSTER', 'R. F. KUANG', 'MEGAN MAXWELL', 'GABRIEL GARCIA MARQUEZ', 'HARUKI MURAKAMI'], 'precio_original': ['24,50 €', '19,90 €', '20,90 €', '24,00 €', '18,00 €', '19,90 €', '22,90 €'], 'precio_descuento': ['23,27 €', '18,90 €', '19,85 €', '22,80 €', '17,10 €', '18,90 €', '21,75 €'], 'editorial': ['HIDRA', 'Editorial Planeta', 'Seix Barral', 'Editorial Hidra', 'Esencia', 'Random House'], 'idioma': ['castellano', 'Desconocido', 'castellano', 'castellano', 'Desconocido', 'castellano'], 'num_paginas': ['456', 'desconocido', '264', '792', 'desconocido', '120']}\n",
      "{'titulo': ['EL FAMILIAR (PRIMERA EDICIÓN ESPECIAL) (EDICIÓN LIMITADA)', 'ANSIA', 'BAUMGARTNER', 'LA REPÚBLICA DEL DRAGÓN', 'LAS GUERRERAS MAXWELL, 9. LIBRE COMO EL VIENTO', 'EN AGOSTO NOS VEMOS', 'LA CIUDAD Y SUS MUROS INCIERTOS'], 'autor': ['LEIGH BARDUGO', 'HENAR ALVAREZ', 'PAUL AUSTER', 'R. F. KUANG', 'MEGAN MAXWELL', 'GABRIEL GARCIA MARQUEZ', 'HARUKI MURAKAMI'], 'precio_original': ['24,50 €', '19,90 €', '20,90 €', '24,00 €', '18,00 €', '19,90 €', '22,90 €'], 'precio_descuento': ['23,27 €', '18,90 €', '19,85 €', '22,80 €', '17,10 €', '18,90 €', '21,75 €'], 'editorial': ['HIDRA', 'Editorial Planeta', 'Seix Barral', 'Editorial Hidra', 'Esencia', 'Random House', 'Tusquets Editores S.A.'], 'idioma': ['castellano', 'Desconocido', 'castellano', 'castellano', 'Desconocido', 'castellano'], 'num_paginas': ['456', 'desconocido', '264', '792', 'desconocido', '120']}\n",
      "{'titulo': ['EL FAMILIAR (PRIMERA EDICIÓN ESPECIAL) (EDICIÓN LIMITADA)', 'ANSIA', 'BAUMGARTNER', 'LA REPÚBLICA DEL DRAGÓN', 'LAS GUERRERAS MAXWELL, 9. LIBRE COMO EL VIENTO', 'EN AGOSTO NOS VEMOS', 'LA CIUDAD Y SUS MUROS INCIERTOS', 'UN LUGAR SOLEADO PARA GENTE SOMBRÍA'], 'autor': ['LEIGH BARDUGO', 'HENAR ALVAREZ', 'PAUL AUSTER', 'R. F. KUANG', 'MEGAN MAXWELL', 'GABRIEL GARCIA MARQUEZ', 'HARUKI MURAKAMI'], 'precio_original': ['24,50 €', '19,90 €', '20,90 €', '24,00 €', '18,00 €', '19,90 €', '22,90 €'], 'precio_descuento': ['23,27 €', '18,90 €', '19,85 €', '22,80 €', '17,10 €', '18,90 €', '21,75 €'], 'editorial': ['HIDRA', 'Editorial Planeta', 'Seix Barral', 'Editorial Hidra', 'Esencia', 'Random House', 'Tusquets Editores S.A.'], 'idioma': ['castellano', 'Desconocido', 'castellano', 'castellano', 'Desconocido', 'castellano', 'castellano'], 'num_paginas': ['456', 'desconocido', '264', '792', 'desconocido', '120', '576']}\n",
      "{'titulo': ['EL FAMILIAR (PRIMERA EDICIÓN ESPECIAL) (EDICIÓN LIMITADA)', 'ANSIA', 'BAUMGARTNER', 'LA REPÚBLICA DEL DRAGÓN', 'LAS GUERRERAS MAXWELL, 9. LIBRE COMO EL VIENTO', 'EN AGOSTO NOS VEMOS', 'LA CIUDAD Y SUS MUROS INCIERTOS', 'UN LUGAR SOLEADO PARA GENTE SOMBRÍA'], 'autor': ['LEIGH BARDUGO', 'HENAR ALVAREZ', 'PAUL AUSTER', 'R. F. KUANG', 'MEGAN MAXWELL', 'GABRIEL GARCIA MARQUEZ', 'HARUKI MURAKAMI', 'MARIANA ENRIQUEZ'], 'precio_original': ['24,50 €', '19,90 €', '20,90 €', '24,00 €', '18,00 €', '19,90 €', '22,90 €'], 'precio_descuento': ['23,27 €', '18,90 €', '19,85 €', '22,80 €', '17,10 €', '18,90 €', '21,75 €'], 'editorial': ['HIDRA', 'Editorial Planeta', 'Seix Barral', 'Editorial Hidra', 'Esencia', 'Random House', 'Tusquets Editores S.A.'], 'idioma': ['castellano', 'Desconocido', 'castellano', 'castellano', 'Desconocido', 'castellano', 'castellano'], 'num_paginas': ['456', 'desconocido', '264', '792', 'desconocido', '120', '576']}\n",
      "{'titulo': ['EL FAMILIAR (PRIMERA EDICIÓN ESPECIAL) (EDICIÓN LIMITADA)', 'ANSIA', 'BAUMGARTNER', 'LA REPÚBLICA DEL DRAGÓN', 'LAS GUERRERAS MAXWELL, 9. LIBRE COMO EL VIENTO', 'EN AGOSTO NOS VEMOS', 'LA CIUDAD Y SUS MUROS INCIERTOS', 'UN LUGAR SOLEADO PARA GENTE SOMBRÍA'], 'autor': ['LEIGH BARDUGO', 'HENAR ALVAREZ', 'PAUL AUSTER', 'R. F. KUANG', 'MEGAN MAXWELL', 'GABRIEL GARCIA MARQUEZ', 'HARUKI MURAKAMI', 'MARIANA ENRIQUEZ'], 'precio_original': ['24,50 €', '19,90 €', '20,90 €', '24,00 €', '18,00 €', '19,90 €', '22,90 €', '19,90 €'], 'precio_descuento': ['23,27 €', '18,90 €', '19,85 €', '22,80 €', '17,10 €', '18,90 €', '21,75 €'], 'editorial': ['HIDRA', 'Editorial Planeta', 'Seix Barral', 'Editorial Hidra', 'Esencia', 'Random House', 'Tusquets Editores S.A.'], 'idioma': ['castellano', 'Desconocido', 'castellano', 'castellano', 'Desconocido', 'castellano', 'castellano'], 'num_paginas': ['456', 'desconocido', '264', '792', 'desconocido', '120', '576']}\n",
      "{'titulo': ['EL FAMILIAR (PRIMERA EDICIÓN ESPECIAL) (EDICIÓN LIMITADA)', 'ANSIA', 'BAUMGARTNER', 'LA REPÚBLICA DEL DRAGÓN', 'LAS GUERRERAS MAXWELL, 9. LIBRE COMO EL VIENTO', 'EN AGOSTO NOS VEMOS', 'LA CIUDAD Y SUS MUROS INCIERTOS', 'UN LUGAR SOLEADO PARA GENTE SOMBRÍA'], 'autor': ['LEIGH BARDUGO', 'HENAR ALVAREZ', 'PAUL AUSTER', 'R. F. KUANG', 'MEGAN MAXWELL', 'GABRIEL GARCIA MARQUEZ', 'HARUKI MURAKAMI', 'MARIANA ENRIQUEZ'], 'precio_original': ['24,50 €', '19,90 €', '20,90 €', '24,00 €', '18,00 €', '19,90 €', '22,90 €', '19,90 €'], 'precio_descuento': ['23,27 €', '18,90 €', '19,85 €', '22,80 €', '17,10 €', '18,90 €', '21,75 €', '18,90 €'], 'editorial': ['HIDRA', 'Editorial Planeta', 'Seix Barral', 'Editorial Hidra', 'Esencia', 'Random House', 'Tusquets Editores S.A.'], 'idioma': ['castellano', 'Desconocido', 'castellano', 'castellano', 'Desconocido', 'castellano', 'castellano'], 'num_paginas': ['456', 'desconocido', '264', '792', 'desconocido', '120', '576']}\n",
      "{'titulo': ['EL FAMILIAR (PRIMERA EDICIÓN ESPECIAL) (EDICIÓN LIMITADA)', 'ANSIA', 'BAUMGARTNER', 'LA REPÚBLICA DEL DRAGÓN', 'LAS GUERRERAS MAXWELL, 9. LIBRE COMO EL VIENTO', 'EN AGOSTO NOS VEMOS', 'LA CIUDAD Y SUS MUROS INCIERTOS', 'UN LUGAR SOLEADO PARA GENTE SOMBRÍA'], 'autor': ['LEIGH BARDUGO', 'HENAR ALVAREZ', 'PAUL AUSTER', 'R. F. KUANG', 'MEGAN MAXWELL', 'GABRIEL GARCIA MARQUEZ', 'HARUKI MURAKAMI', 'MARIANA ENRIQUEZ'], 'precio_original': ['24,50 €', '19,90 €', '20,90 €', '24,00 €', '18,00 €', '19,90 €', '22,90 €', '19,90 €'], 'precio_descuento': ['23,27 €', '18,90 €', '19,85 €', '22,80 €', '17,10 €', '18,90 €', '21,75 €', '18,90 €'], 'editorial': ['HIDRA', 'Editorial Planeta', 'Seix Barral', 'Editorial Hidra', 'Esencia', 'Random House', 'Tusquets Editores S.A.', 'Editorial Anagrama S.A.'], 'idioma': ['castellano', 'Desconocido', 'castellano', 'castellano', 'Desconocido', 'castellano', 'castellano'], 'num_paginas': ['456', 'desconocido', '264', '792', 'desconocido', '120', '576']}\n",
      "{'titulo': ['EL FAMILIAR (PRIMERA EDICIÓN ESPECIAL) (EDICIÓN LIMITADA)', 'ANSIA', 'BAUMGARTNER', 'LA REPÚBLICA DEL DRAGÓN', 'LAS GUERRERAS MAXWELL, 9. LIBRE COMO EL VIENTO', 'EN AGOSTO NOS VEMOS', 'LA CIUDAD Y SUS MUROS INCIERTOS', 'UN LUGAR SOLEADO PARA GENTE SOMBRÍA', 'MUJERES QUE ARDEN'], 'autor': ['LEIGH BARDUGO', 'HENAR ALVAREZ', 'PAUL AUSTER', 'R. F. KUANG', 'MEGAN MAXWELL', 'GABRIEL GARCIA MARQUEZ', 'HARUKI MURAKAMI', 'MARIANA ENRIQUEZ'], 'precio_original': ['24,50 €', '19,90 €', '20,90 €', '24,00 €', '18,00 €', '19,90 €', '22,90 €', '19,90 €'], 'precio_descuento': ['23,27 €', '18,90 €', '19,85 €', '22,80 €', '17,10 €', '18,90 €', '21,75 €', '18,90 €'], 'editorial': ['HIDRA', 'Editorial Planeta', 'Seix Barral', 'Editorial Hidra', 'Esencia', 'Random House', 'Tusquets Editores S.A.', 'Editorial Anagrama S.A.'], 'idioma': ['castellano', 'Desconocido', 'castellano', 'castellano', 'Desconocido', 'castellano', 'castellano', 'castellano'], 'num_paginas': ['456', 'desconocido', '264', '792', 'desconocido', '120', '576', '232']}\n",
      "{'titulo': ['EL FAMILIAR (PRIMERA EDICIÓN ESPECIAL) (EDICIÓN LIMITADA)', 'ANSIA', 'BAUMGARTNER', 'LA REPÚBLICA DEL DRAGÓN', 'LAS GUERRERAS MAXWELL, 9. LIBRE COMO EL VIENTO', 'EN AGOSTO NOS VEMOS', 'LA CIUDAD Y SUS MUROS INCIERTOS', 'UN LUGAR SOLEADO PARA GENTE SOMBRÍA', 'MUJERES QUE ARDEN'], 'autor': ['LEIGH BARDUGO', 'HENAR ALVAREZ', 'PAUL AUSTER', 'R. F. KUANG', 'MEGAN MAXWELL', 'GABRIEL GARCIA MARQUEZ', 'HARUKI MURAKAMI', 'MARIANA ENRIQUEZ', 'MARIA ESCLAPEZ'], 'precio_original': ['24,50 €', '19,90 €', '20,90 €', '24,00 €', '18,00 €', '19,90 €', '22,90 €', '19,90 €'], 'precio_descuento': ['23,27 €', '18,90 €', '19,85 €', '22,80 €', '17,10 €', '18,90 €', '21,75 €', '18,90 €'], 'editorial': ['HIDRA', 'Editorial Planeta', 'Seix Barral', 'Editorial Hidra', 'Esencia', 'Random House', 'Tusquets Editores S.A.', 'Editorial Anagrama S.A.'], 'idioma': ['castellano', 'Desconocido', 'castellano', 'castellano', 'Desconocido', 'castellano', 'castellano', 'castellano'], 'num_paginas': ['456', 'desconocido', '264', '792', 'desconocido', '120', '576', '232']}\n",
      "{'titulo': ['EL FAMILIAR (PRIMERA EDICIÓN ESPECIAL) (EDICIÓN LIMITADA)', 'ANSIA', 'BAUMGARTNER', 'LA REPÚBLICA DEL DRAGÓN', 'LAS GUERRERAS MAXWELL, 9. LIBRE COMO EL VIENTO', 'EN AGOSTO NOS VEMOS', 'LA CIUDAD Y SUS MUROS INCIERTOS', 'UN LUGAR SOLEADO PARA GENTE SOMBRÍA', 'MUJERES QUE ARDEN'], 'autor': ['LEIGH BARDUGO', 'HENAR ALVAREZ', 'PAUL AUSTER', 'R. F. KUANG', 'MEGAN MAXWELL', 'GABRIEL GARCIA MARQUEZ', 'HARUKI MURAKAMI', 'MARIANA ENRIQUEZ', 'MARIA ESCLAPEZ'], 'precio_original': ['24,50 €', '19,90 €', '20,90 €', '24,00 €', '18,00 €', '19,90 €', '22,90 €', '19,90 €', '20,90 €'], 'precio_descuento': ['23,27 €', '18,90 €', '19,85 €', '22,80 €', '17,10 €', '18,90 €', '21,75 €', '18,90 €'], 'editorial': ['HIDRA', 'Editorial Planeta', 'Seix Barral', 'Editorial Hidra', 'Esencia', 'Random House', 'Tusquets Editores S.A.', 'Editorial Anagrama S.A.'], 'idioma': ['castellano', 'Desconocido', 'castellano', 'castellano', 'Desconocido', 'castellano', 'castellano', 'castellano'], 'num_paginas': ['456', 'desconocido', '264', '792', 'desconocido', '120', '576', '232']}\n",
      "{'titulo': ['EL FAMILIAR (PRIMERA EDICIÓN ESPECIAL) (EDICIÓN LIMITADA)', 'ANSIA', 'BAUMGARTNER', 'LA REPÚBLICA DEL DRAGÓN', 'LAS GUERRERAS MAXWELL, 9. LIBRE COMO EL VIENTO', 'EN AGOSTO NOS VEMOS', 'LA CIUDAD Y SUS MUROS INCIERTOS', 'UN LUGAR SOLEADO PARA GENTE SOMBRÍA', 'MUJERES QUE ARDEN'], 'autor': ['LEIGH BARDUGO', 'HENAR ALVAREZ', 'PAUL AUSTER', 'R. F. KUANG', 'MEGAN MAXWELL', 'GABRIEL GARCIA MARQUEZ', 'HARUKI MURAKAMI', 'MARIANA ENRIQUEZ', 'MARIA ESCLAPEZ'], 'precio_original': ['24,50 €', '19,90 €', '20,90 €', '24,00 €', '18,00 €', '19,90 €', '22,90 €', '19,90 €', '20,90 €'], 'precio_descuento': ['23,27 €', '18,90 €', '19,85 €', '22,80 €', '17,10 €', '18,90 €', '21,75 €', '18,90 €', '19,85 €'], 'editorial': ['HIDRA', 'Editorial Planeta', 'Seix Barral', 'Editorial Hidra', 'Esencia', 'Random House', 'Tusquets Editores S.A.', 'Editorial Anagrama S.A.'], 'idioma': ['castellano', 'Desconocido', 'castellano', 'castellano', 'Desconocido', 'castellano', 'castellano', 'castellano'], 'num_paginas': ['456', 'desconocido', '264', '792', 'desconocido', '120', '576', '232']}\n",
      "{'titulo': ['EL FAMILIAR (PRIMERA EDICIÓN ESPECIAL) (EDICIÓN LIMITADA)', 'ANSIA', 'BAUMGARTNER', 'LA REPÚBLICA DEL DRAGÓN', 'LAS GUERRERAS MAXWELL, 9. LIBRE COMO EL VIENTO', 'EN AGOSTO NOS VEMOS', 'LA CIUDAD Y SUS MUROS INCIERTOS', 'UN LUGAR SOLEADO PARA GENTE SOMBRÍA', 'MUJERES QUE ARDEN'], 'autor': ['LEIGH BARDUGO', 'HENAR ALVAREZ', 'PAUL AUSTER', 'R. F. KUANG', 'MEGAN MAXWELL', 'GABRIEL GARCIA MARQUEZ', 'HARUKI MURAKAMI', 'MARIANA ENRIQUEZ', 'MARIA ESCLAPEZ'], 'precio_original': ['24,50 €', '19,90 €', '20,90 €', '24,00 €', '18,00 €', '19,90 €', '22,90 €', '19,90 €', '20,90 €'], 'precio_descuento': ['23,27 €', '18,90 €', '19,85 €', '22,80 €', '17,10 €', '18,90 €', '21,75 €', '18,90 €', '19,85 €'], 'editorial': ['HIDRA', 'Editorial Planeta', 'Seix Barral', 'Editorial Hidra', 'Esencia', 'Random House', 'Tusquets Editores S.A.', 'Editorial Anagrama S.A.', 'B'], 'idioma': ['castellano', 'Desconocido', 'castellano', 'castellano', 'Desconocido', 'castellano', 'castellano', 'castellano'], 'num_paginas': ['456', 'desconocido', '264', '792', 'desconocido', '120', '576', '232']}\n",
      "{'titulo': ['EL FAMILIAR (PRIMERA EDICIÓN ESPECIAL) (EDICIÓN LIMITADA)', 'ANSIA', 'BAUMGARTNER', 'LA REPÚBLICA DEL DRAGÓN', 'LAS GUERRERAS MAXWELL, 9. LIBRE COMO EL VIENTO', 'EN AGOSTO NOS VEMOS', 'LA CIUDAD Y SUS MUROS INCIERTOS', 'UN LUGAR SOLEADO PARA GENTE SOMBRÍA', 'MUJERES QUE ARDEN', 'UN ANIMAL SALVAJE'], 'autor': ['LEIGH BARDUGO', 'HENAR ALVAREZ', 'PAUL AUSTER', 'R. F. KUANG', 'MEGAN MAXWELL', 'GABRIEL GARCIA MARQUEZ', 'HARUKI MURAKAMI', 'MARIANA ENRIQUEZ', 'MARIA ESCLAPEZ'], 'precio_original': ['24,50 €', '19,90 €', '20,90 €', '24,00 €', '18,00 €', '19,90 €', '22,90 €', '19,90 €', '20,90 €'], 'precio_descuento': ['23,27 €', '18,90 €', '19,85 €', '22,80 €', '17,10 €', '18,90 €', '21,75 €', '18,90 €', '19,85 €'], 'editorial': ['HIDRA', 'Editorial Planeta', 'Seix Barral', 'Editorial Hidra', 'Esencia', 'Random House', 'Tusquets Editores S.A.', 'Editorial Anagrama S.A.', 'B'], 'idioma': ['castellano', 'Desconocido', 'castellano', 'castellano', 'Desconocido', 'castellano', 'castellano', 'castellano', 'Desconocido'], 'num_paginas': ['456', 'desconocido', '264', '792', 'desconocido', '120', '576', '232', 'desconocido']}\n",
      "{'titulo': ['EL FAMILIAR (PRIMERA EDICIÓN ESPECIAL) (EDICIÓN LIMITADA)', 'ANSIA', 'BAUMGARTNER', 'LA REPÚBLICA DEL DRAGÓN', 'LAS GUERRERAS MAXWELL, 9. LIBRE COMO EL VIENTO', 'EN AGOSTO NOS VEMOS', 'LA CIUDAD Y SUS MUROS INCIERTOS', 'UN LUGAR SOLEADO PARA GENTE SOMBRÍA', 'MUJERES QUE ARDEN', 'UN ANIMAL SALVAJE'], 'autor': ['LEIGH BARDUGO', 'HENAR ALVAREZ', 'PAUL AUSTER', 'R. F. KUANG', 'MEGAN MAXWELL', 'GABRIEL GARCIA MARQUEZ', 'HARUKI MURAKAMI', 'MARIANA ENRIQUEZ', 'MARIA ESCLAPEZ', 'JOEL DICKER'], 'precio_original': ['24,50 €', '19,90 €', '20,90 €', '24,00 €', '18,00 €', '19,90 €', '22,90 €', '19,90 €', '20,90 €'], 'precio_descuento': ['23,27 €', '18,90 €', '19,85 €', '22,80 €', '17,10 €', '18,90 €', '21,75 €', '18,90 €', '19,85 €'], 'editorial': ['HIDRA', 'Editorial Planeta', 'Seix Barral', 'Editorial Hidra', 'Esencia', 'Random House', 'Tusquets Editores S.A.', 'Editorial Anagrama S.A.', 'B'], 'idioma': ['castellano', 'Desconocido', 'castellano', 'castellano', 'Desconocido', 'castellano', 'castellano', 'castellano', 'Desconocido'], 'num_paginas': ['456', 'desconocido', '264', '792', 'desconocido', '120', '576', '232', 'desconocido']}\n",
      "{'titulo': ['EL FAMILIAR (PRIMERA EDICIÓN ESPECIAL) (EDICIÓN LIMITADA)', 'ANSIA', 'BAUMGARTNER', 'LA REPÚBLICA DEL DRAGÓN', 'LAS GUERRERAS MAXWELL, 9. LIBRE COMO EL VIENTO', 'EN AGOSTO NOS VEMOS', 'LA CIUDAD Y SUS MUROS INCIERTOS', 'UN LUGAR SOLEADO PARA GENTE SOMBRÍA', 'MUJERES QUE ARDEN', 'UN ANIMAL SALVAJE'], 'autor': ['LEIGH BARDUGO', 'HENAR ALVAREZ', 'PAUL AUSTER', 'R. F. KUANG', 'MEGAN MAXWELL', 'GABRIEL GARCIA MARQUEZ', 'HARUKI MURAKAMI', 'MARIANA ENRIQUEZ', 'MARIA ESCLAPEZ', 'JOEL DICKER'], 'precio_original': ['24,50 €', '19,90 €', '20,90 €', '24,00 €', '18,00 €', '19,90 €', '22,90 €', '19,90 €', '20,90 €', '23,90 €'], 'precio_descuento': ['23,27 €', '18,90 €', '19,85 €', '22,80 €', '17,10 €', '18,90 €', '21,75 €', '18,90 €', '19,85 €'], 'editorial': ['HIDRA', 'Editorial Planeta', 'Seix Barral', 'Editorial Hidra', 'Esencia', 'Random House', 'Tusquets Editores S.A.', 'Editorial Anagrama S.A.', 'B'], 'idioma': ['castellano', 'Desconocido', 'castellano', 'castellano', 'Desconocido', 'castellano', 'castellano', 'castellano', 'Desconocido'], 'num_paginas': ['456', 'desconocido', '264', '792', 'desconocido', '120', '576', '232', 'desconocido']}\n",
      "{'titulo': ['EL FAMILIAR (PRIMERA EDICIÓN ESPECIAL) (EDICIÓN LIMITADA)', 'ANSIA', 'BAUMGARTNER', 'LA REPÚBLICA DEL DRAGÓN', 'LAS GUERRERAS MAXWELL, 9. LIBRE COMO EL VIENTO', 'EN AGOSTO NOS VEMOS', 'LA CIUDAD Y SUS MUROS INCIERTOS', 'UN LUGAR SOLEADO PARA GENTE SOMBRÍA', 'MUJERES QUE ARDEN', 'UN ANIMAL SALVAJE'], 'autor': ['LEIGH BARDUGO', 'HENAR ALVAREZ', 'PAUL AUSTER', 'R. F. KUANG', 'MEGAN MAXWELL', 'GABRIEL GARCIA MARQUEZ', 'HARUKI MURAKAMI', 'MARIANA ENRIQUEZ', 'MARIA ESCLAPEZ', 'JOEL DICKER'], 'precio_original': ['24,50 €', '19,90 €', '20,90 €', '24,00 €', '18,00 €', '19,90 €', '22,90 €', '19,90 €', '20,90 €', '23,90 €'], 'precio_descuento': ['23,27 €', '18,90 €', '19,85 €', '22,80 €', '17,10 €', '18,90 €', '21,75 €', '18,90 €', '19,85 €', '22,70 €'], 'editorial': ['HIDRA', 'Editorial Planeta', 'Seix Barral', 'Editorial Hidra', 'Esencia', 'Random House', 'Tusquets Editores S.A.', 'Editorial Anagrama S.A.', 'B'], 'idioma': ['castellano', 'Desconocido', 'castellano', 'castellano', 'Desconocido', 'castellano', 'castellano', 'castellano', 'Desconocido'], 'num_paginas': ['456', 'desconocido', '264', '792', 'desconocido', '120', '576', '232', 'desconocido']}\n",
      "{'titulo': ['EL FAMILIAR (PRIMERA EDICIÓN ESPECIAL) (EDICIÓN LIMITADA)', 'ANSIA', 'BAUMGARTNER', 'LA REPÚBLICA DEL DRAGÓN', 'LAS GUERRERAS MAXWELL, 9. LIBRE COMO EL VIENTO', 'EN AGOSTO NOS VEMOS', 'LA CIUDAD Y SUS MUROS INCIERTOS', 'UN LUGAR SOLEADO PARA GENTE SOMBRÍA', 'MUJERES QUE ARDEN', 'UN ANIMAL SALVAJE'], 'autor': ['LEIGH BARDUGO', 'HENAR ALVAREZ', 'PAUL AUSTER', 'R. F. KUANG', 'MEGAN MAXWELL', 'GABRIEL GARCIA MARQUEZ', 'HARUKI MURAKAMI', 'MARIANA ENRIQUEZ', 'MARIA ESCLAPEZ', 'JOEL DICKER'], 'precio_original': ['24,50 €', '19,90 €', '20,90 €', '24,00 €', '18,00 €', '19,90 €', '22,90 €', '19,90 €', '20,90 €', '23,90 €'], 'precio_descuento': ['23,27 €', '18,90 €', '19,85 €', '22,80 €', '17,10 €', '18,90 €', '21,75 €', '18,90 €', '19,85 €', '22,70 €'], 'editorial': ['HIDRA', 'Editorial Planeta', 'Seix Barral', 'Editorial Hidra', 'Esencia', 'Random House', 'Tusquets Editores S.A.', 'Editorial Anagrama S.A.', 'B', 'ALFAGUARA'], 'idioma': ['castellano', 'Desconocido', 'castellano', 'castellano', 'Desconocido', 'castellano', 'castellano', 'castellano', 'Desconocido'], 'num_paginas': ['456', 'desconocido', '264', '792', 'desconocido', '120', '576', '232', 'desconocido']}\n"
     ]
    }
   ],
   "source": [
    "\n",
    "driver = webdriver.Chrome()\n",
    "\n",
    "sleep(3)\n",
    "\n",
    "driver.get('https://www.casadellibro.com/')\n",
    " \n",
    "sleep(5)\n",
    "\n",
    "driver.find_element('css selector', '#onetrust-accept-btn-handler').click()\n",
    "\n",
    "driver.maximize_window()\n",
    "\n",
    "sleep(4)\n",
    "\n",
    "\n",
    "driver.find_element('css selector','#app > div.v-application--wrap > div.when-mobile > div.cabecera.desktop > div.bottom-row > div > div > div:nth-child(2) > a').click()\n",
    "sleep(3)\n",
    "\n",
    "diccionario_libros = {\"titulo\": [], \"autor\": [], \"precio_original\": [], \"precio_descuento\": [], \"editorial\": [], \"idioma\": [], \"num_paginas\": []}\n",
    "\n",
    "for i in range(1, 11):\n",
    "    sleep(5)\n",
    "    \n",
    "    try:\n",
    "        driver.find_element(\"css selector\", f\"#app > div.v-application--wrap > main > div > div > div > div:nth-child(3) > div > div:nth-child(2) > div > div.swiper > div:nth-child({i})\").click()\n",
    "        sleep(6)\n",
    "        \n",
    "        diccionario_libros[\"titulo\"].append(driver.find_element(\"css selector\",\"#app > div.v-application--wrap > main > div > div > div > div:nth-child(3) > div > div.col-md-5.order-lg-2.col-12.order-1 > div > h1\").text)\n",
    "        print(diccionario_libros)\n",
    "\n",
    "        diccionario_libros[\"autor\"].append(driver.find_element(\"css selector\",\"#app > div.v-application--wrap > main > div > div > div > div:nth-child(3) > div > div.col-md-5.order-lg-2.col-12.order-1 > div > div.text-h5.d-flex.flex-wrap.author.mb-2.justify-center.justify-sm-start > div > a > span:nth-child(1)\").text)\n",
    "        print(diccionario_libros)\n",
    "                                                                \n",
    "\n",
    "        diccionario_libros[\"precio_original\"].append(driver.find_element(\"css selector\",\"#app > div.v-application--wrap > main > div > div > div > div:nth-child(3) > div > div.border-left.col-md-4.col-12.order-3 > div > div:nth-child(2) > span.discount\").text)\n",
    "        print(diccionario_libros)\n",
    "\n",
    "        diccionario_libros[\"precio_descuento\"].append(driver.find_element(\"css selector\",\"#app > div.v-application--wrap > main > div > div > div > div:nth-child(3) > div > div.border-left.col-md-4.col-12.order-3 > div > div:nth-child(3) > div.col.col-8\").text)\n",
    "        print(diccionario_libros)\n",
    "\n",
    "        try:\n",
    "            diccionario_libros[\"editorial\"].append(driver.find_element(\"css selector\",\"#app > div.v-application--wrap > main > div > div > div > div:nth-child(3) > div > div.col-md-5.order-lg-2.col-12.order-1 > div > div.d-none.d-md-inline > div:nth-child(1) > span:nth-child(1)\").text)\n",
    "            print(diccionario_libros)\n",
    "\n",
    "        except:\n",
    "            diccionario_libros[\"editorial\"].append(\"desconocida\")\n",
    "                \n",
    "        sleep(4)\n",
    "\n",
    "        try:   \n",
    "            texto_idioma = driver.find_element(\"css selector\",\"#app > div.v-application--wrap > main > div > div > div > div:nth-child(6) > div > div.caracteristicas.mt-4.pt-4 > div:nth-child(3)\").text\n",
    "            idioma = texto_idioma.split()[-1].strip(\",\").lower()\n",
    "                                           \n",
    "            diccionario_libros[\"idioma\"].append(idioma)\n",
    "\t\t\n",
    "                                                                            \n",
    "        except:\n",
    "            diccionario_libros[\"idioma\"].append(\"Desconocido\")\n",
    "\n",
    "        sleep(4)\n",
    "\n",
    "        try:\n",
    "            texto_num_paginas = driver.find_element(\"css selector\", \"#app > div.v-application--wrap > main > div > div > div > div:nth-child(6) > div > div.caracteristicas.mt-4.pt-4 > div:nth-child(1)\").text\n",
    "            num_paginas = texto_num_paginas.split()[-1]\n",
    "            diccionario_libros[\"num_paginas\"].append(num_paginas)\n",
    "\n",
    "        except:\n",
    "\n",
    "            diccionario_libros[\"num_paginas\"].append(\"desconocido\")\n",
    "\n",
    "        sleep(4)\n",
    "        \n",
    "    except Exception as e:\n",
    "        print(f\"Error al procesar el elemento {i}:{str(e)}\")\n",
    "    \n",
    "    driver.back()\n",
    "\n",
    "driver.close()"
   ]
  },
  {
   "cell_type": "code",
   "execution_count": 16,
   "metadata": {},
   "outputs": [
    {
     "name": "stdout",
     "output_type": "stream",
     "text": [
      "{'titulo': ['EL FAMILIAR (PRIMERA EDICIÓN ESPECIAL) (EDICIÓN LIMITADA)', 'ANSIA', 'BAUMGARTNER', 'LA REPÚBLICA DEL DRAGÓN', 'LAS GUERRERAS MAXWELL, 9. LIBRE COMO EL VIENTO', 'EN AGOSTO NOS VEMOS', 'LA CIUDAD Y SUS MUROS INCIERTOS', 'UN LUGAR SOLEADO PARA GENTE SOMBRÍA', 'MUJERES QUE ARDEN', 'UN ANIMAL SALVAJE'], 'autor': ['LEIGH BARDUGO', 'HENAR ALVAREZ', 'PAUL AUSTER', 'R. F. KUANG', 'MEGAN MAXWELL', 'GABRIEL GARCIA MARQUEZ', 'HARUKI MURAKAMI', 'MARIANA ENRIQUEZ', 'MARIA ESCLAPEZ', 'JOEL DICKER'], 'precio_original': ['24,50 €', '19,90 €', '20,90 €', '24,00 €', '18,00 €', '19,90 €', '22,90 €', '19,90 €', '20,90 €', '23,90 €'], 'precio_descuento': ['23,27 €', '18,90 €', '19,85 €', '22,80 €', '17,10 €', '18,90 €', '21,75 €', '18,90 €', '19,85 €', '22,70 €'], 'editorial': ['HIDRA', 'Editorial Planeta', 'Seix Barral', 'Editorial Hidra', 'Esencia', 'Random House', 'Tusquets Editores S.A.', 'Editorial Anagrama S.A.', 'B', 'ALFAGUARA'], 'idioma': ['castellano', 'Desconocido', 'castellano', 'castellano', 'Desconocido', 'castellano', 'castellano', 'castellano', 'Desconocido', 'castellano'], 'num_paginas': ['456', 'desconocido', '264', '792', 'desconocido', '120', '576', '232', 'desconocido', '448']}\n"
     ]
    }
   ],
   "source": [
    "print(diccionario_libros)"
   ]
  },
  {
   "cell_type": "code",
   "execution_count": 17,
   "metadata": {},
   "outputs": [
    {
     "name": "stdout",
     "output_type": "stream",
     "text": [
      "titulo: 10\n",
      "autor: 10\n",
      "precio_original: 10\n",
      "precio_descuento: 10\n",
      "editorial: 10\n",
      "idioma: 10\n",
      "num_paginas: 10\n"
     ]
    }
   ],
   "source": [
    "for key, value in diccionario_libros.items():\n",
    "    print(f\"{key}: {len(value)}\")\n"
   ]
  },
  {
   "cell_type": "code",
   "execution_count": 20,
   "metadata": {},
   "outputs": [],
   "source": [
    "df= pd.DataFrame(diccionario_libros)"
   ]
  },
  {
   "cell_type": "code",
   "execution_count": 21,
   "metadata": {},
   "outputs": [
    {
     "name": "stdout",
     "output_type": "stream",
     "text": [
      "                                              titulo                   autor  \\\n",
      "0  EL FAMILIAR (PRIMERA EDICIÓN ESPECIAL) (EDICIÓ...           LEIGH BARDUGO   \n",
      "1                                              ANSIA           HENAR ALVAREZ   \n",
      "2                                        BAUMGARTNER             PAUL AUSTER   \n",
      "3                            LA REPÚBLICA DEL DRAGÓN             R. F. KUANG   \n",
      "4     LAS GUERRERAS MAXWELL, 9. LIBRE COMO EL VIENTO           MEGAN MAXWELL   \n",
      "5                                EN AGOSTO NOS VEMOS  GABRIEL GARCIA MARQUEZ   \n",
      "6                    LA CIUDAD Y SUS MUROS INCIERTOS         HARUKI MURAKAMI   \n",
      "7                UN LUGAR SOLEADO PARA GENTE SOMBRÍA        MARIANA ENRIQUEZ   \n",
      "8                                  MUJERES QUE ARDEN          MARIA ESCLAPEZ   \n",
      "9                                  UN ANIMAL SALVAJE             JOEL DICKER   \n",
      "\n",
      "  precio_original precio_descuento                editorial       idioma  \\\n",
      "0         24,50 €          23,27 €                    HIDRA   castellano   \n",
      "1         19,90 €          18,90 €        Editorial Planeta  Desconocido   \n",
      "2         20,90 €          19,85 €              Seix Barral   castellano   \n",
      "3         24,00 €          22,80 €          Editorial Hidra   castellano   \n",
      "4         18,00 €          17,10 €                  Esencia  Desconocido   \n",
      "5         19,90 €          18,90 €             Random House   castellano   \n",
      "6         22,90 €          21,75 €   Tusquets Editores S.A.   castellano   \n",
      "7         19,90 €          18,90 €  Editorial Anagrama S.A.   castellano   \n",
      "8         20,90 €          19,85 €                        B  Desconocido   \n",
      "9         23,90 €          22,70 €                ALFAGUARA   castellano   \n",
      "\n",
      "   num_paginas  \n",
      "0          456  \n",
      "1  desconocido  \n",
      "2          264  \n",
      "3          792  \n",
      "4  desconocido  \n",
      "5          120  \n",
      "6          576  \n",
      "7          232  \n",
      "8  desconocido  \n",
      "9          448  \n"
     ]
    }
   ],
   "source": [
    "print(df)"
   ]
  }
 ],
 "metadata": {
  "kernelspec": {
   "display_name": "Python 3",
   "language": "python",
   "name": "python3"
  },
  "language_info": {
   "codemirror_mode": {
    "name": "ipython",
    "version": 3
   },
   "file_extension": ".py",
   "mimetype": "text/x-python",
   "name": "python",
   "nbconvert_exporter": "python",
   "pygments_lexer": "ipython3",
   "version": "3.9.13"
  }
 },
 "nbformat": 4,
 "nbformat_minor": 2
}
