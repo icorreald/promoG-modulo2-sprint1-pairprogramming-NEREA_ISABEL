{
 "cells": [
  {
   "cell_type": "code",
   "execution_count": 10,
   "metadata": {},
   "outputs": [],
   "source": [
    "import pandas as pd\n"
   ]
  },
  {
   "cell_type": "code",
   "execution_count": 33,
   "metadata": {},
   "outputs": [],
   "source": [
    "import json"
   ]
  },
  {
   "cell_type": "markdown",
   "metadata": {},
   "source": [
    "2. Abrir el archivo, creando un Dataframe. Aseguraros de que no incluye la columna \"Unnamed: 0\""
   ]
  },
  {
   "cell_type": "code",
   "execution_count": 11,
   "metadata": {},
   "outputs": [],
   "source": [
    "df_vg = pd.read_csv('videogames.csv')"
   ]
  },
  {
   "cell_type": "code",
   "execution_count": 23,
   "metadata": {},
   "outputs": [],
   "source": [
    "df_vg = df_vg.drop(columns='Unnamed: 0')"
   ]
  },
  {
   "cell_type": "code",
   "execution_count": 24,
   "metadata": {},
   "outputs": [
    {
     "data": {
      "text/html": [
       "<div>\n",
       "<style scoped>\n",
       "    .dataframe tbody tr th:only-of-type {\n",
       "        vertical-align: middle;\n",
       "    }\n",
       "\n",
       "    .dataframe tbody tr th {\n",
       "        vertical-align: top;\n",
       "    }\n",
       "\n",
       "    .dataframe thead th {\n",
       "        text-align: right;\n",
       "    }\n",
       "</style>\n",
       "<table border=\"1\" class=\"dataframe\">\n",
       "  <thead>\n",
       "    <tr style=\"text-align: right;\">\n",
       "      <th></th>\n",
       "      <th>name</th>\n",
       "      <th>url</th>\n",
       "      <th>year</th>\n",
       "      <th>certificate</th>\n",
       "      <th>rating</th>\n",
       "      <th>votes</th>\n",
       "      <th>plot</th>\n",
       "      <th>Action</th>\n",
       "      <th>Adventure</th>\n",
       "      <th>Comedy</th>\n",
       "      <th>Crime</th>\n",
       "      <th>Family</th>\n",
       "      <th>Fantasy</th>\n",
       "      <th>Mystery</th>\n",
       "      <th>Sci-Fi</th>\n",
       "      <th>Thriller</th>\n",
       "    </tr>\n",
       "  </thead>\n",
       "  <tbody>\n",
       "    <tr>\n",
       "      <th>0</th>\n",
       "      <td>Spider-Man</td>\n",
       "      <td>https://www.imdb.com/title/tt5807780/?ref_=adv...</td>\n",
       "      <td>2018.0</td>\n",
       "      <td>T</td>\n",
       "      <td>9.2</td>\n",
       "      <td>20,759</td>\n",
       "      <td>When a new villain threatens New York City, Pe...</td>\n",
       "      <td>True</td>\n",
       "      <td>True</td>\n",
       "      <td>False</td>\n",
       "      <td>False</td>\n",
       "      <td>False</td>\n",
       "      <td>True</td>\n",
       "      <td>False</td>\n",
       "      <td>False</td>\n",
       "      <td>False</td>\n",
       "    </tr>\n",
       "    <tr>\n",
       "      <th>1</th>\n",
       "      <td>Red Dead Redemption II</td>\n",
       "      <td>https://www.imdb.com/title/tt6161168/?ref_=adv...</td>\n",
       "      <td>2018.0</td>\n",
       "      <td>M</td>\n",
       "      <td>9.7</td>\n",
       "      <td>35,703</td>\n",
       "      <td>Amidst the decline of the Wild West at the tur...</td>\n",
       "      <td>True</td>\n",
       "      <td>True</td>\n",
       "      <td>False</td>\n",
       "      <td>True</td>\n",
       "      <td>False</td>\n",
       "      <td>False</td>\n",
       "      <td>False</td>\n",
       "      <td>False</td>\n",
       "      <td>False</td>\n",
       "    </tr>\n",
       "    <tr>\n",
       "      <th>2</th>\n",
       "      <td>Grand Theft Auto V</td>\n",
       "      <td>https://www.imdb.com/title/tt2103188/?ref_=adv...</td>\n",
       "      <td>2013.0</td>\n",
       "      <td>M</td>\n",
       "      <td>9.5</td>\n",
       "      <td>59,986</td>\n",
       "      <td>Three very different criminals team up for a s...</td>\n",
       "      <td>True</td>\n",
       "      <td>False</td>\n",
       "      <td>False</td>\n",
       "      <td>True</td>\n",
       "      <td>False</td>\n",
       "      <td>False</td>\n",
       "      <td>False</td>\n",
       "      <td>False</td>\n",
       "      <td>False</td>\n",
       "    </tr>\n",
       "    <tr>\n",
       "      <th>3</th>\n",
       "      <td>God of War</td>\n",
       "      <td>https://www.imdb.com/title/tt5838588/?ref_=adv...</td>\n",
       "      <td>2018.0</td>\n",
       "      <td>M</td>\n",
       "      <td>9.6</td>\n",
       "      <td>26,118</td>\n",
       "      <td>After wiping out the gods of Mount Olympus, Kr...</td>\n",
       "      <td>True</td>\n",
       "      <td>True</td>\n",
       "      <td>False</td>\n",
       "      <td>False</td>\n",
       "      <td>False</td>\n",
       "      <td>False</td>\n",
       "      <td>False</td>\n",
       "      <td>False</td>\n",
       "      <td>False</td>\n",
       "    </tr>\n",
       "    <tr>\n",
       "      <th>4</th>\n",
       "      <td>Uncharted 4: A Thief's End</td>\n",
       "      <td>https://www.imdb.com/title/tt3334704/?ref_=adv...</td>\n",
       "      <td>2016.0</td>\n",
       "      <td>T</td>\n",
       "      <td>9.5</td>\n",
       "      <td>28,722</td>\n",
       "      <td>Thrown back into the dangerous underworld he'd...</td>\n",
       "      <td>True</td>\n",
       "      <td>True</td>\n",
       "      <td>False</td>\n",
       "      <td>False</td>\n",
       "      <td>False</td>\n",
       "      <td>False</td>\n",
       "      <td>False</td>\n",
       "      <td>False</td>\n",
       "      <td>False</td>\n",
       "    </tr>\n",
       "  </tbody>\n",
       "</table>\n",
       "</div>"
      ],
      "text/plain": [
       "                         name  \\\n",
       "0                  Spider-Man   \n",
       "1      Red Dead Redemption II   \n",
       "2          Grand Theft Auto V   \n",
       "3                  God of War   \n",
       "4  Uncharted 4: A Thief's End   \n",
       "\n",
       "                                                 url    year certificate  \\\n",
       "0  https://www.imdb.com/title/tt5807780/?ref_=adv...  2018.0           T   \n",
       "1  https://www.imdb.com/title/tt6161168/?ref_=adv...  2018.0           M   \n",
       "2  https://www.imdb.com/title/tt2103188/?ref_=adv...  2013.0           M   \n",
       "3  https://www.imdb.com/title/tt5838588/?ref_=adv...  2018.0           M   \n",
       "4  https://www.imdb.com/title/tt3334704/?ref_=adv...  2016.0           T   \n",
       "\n",
       "   rating   votes                                               plot  Action  \\\n",
       "0     9.2  20,759  When a new villain threatens New York City, Pe...    True   \n",
       "1     9.7  35,703  Amidst the decline of the Wild West at the tur...    True   \n",
       "2     9.5  59,986  Three very different criminals team up for a s...    True   \n",
       "3     9.6  26,118  After wiping out the gods of Mount Olympus, Kr...    True   \n",
       "4     9.5  28,722  Thrown back into the dangerous underworld he'd...    True   \n",
       "\n",
       "   Adventure  Comedy  Crime  Family  Fantasy  Mystery  Sci-Fi  Thriller  \n",
       "0       True   False  False   False     True    False   False     False  \n",
       "1       True   False   True   False    False    False   False     False  \n",
       "2      False   False   True   False    False    False   False     False  \n",
       "3       True   False  False   False    False    False   False     False  \n",
       "4       True   False  False   False    False    False   False     False  "
      ]
     },
     "execution_count": 24,
     "metadata": {},
     "output_type": "execute_result"
    }
   ],
   "source": [
    "df_vg.head()"
   ]
  },
  {
   "cell_type": "markdown",
   "metadata": {},
   "source": [
    "3. Guardar el DF en formato Excel. Crear un DF con el Excel. ¿Son iguales?"
   ]
  },
  {
   "cell_type": "code",
   "execution_count": 26,
   "metadata": {},
   "outputs": [],
   "source": [
    "df_vg.to_excel('videogames.xlsx')"
   ]
  },
  {
   "cell_type": "code",
   "execution_count": 28,
   "metadata": {},
   "outputs": [
    {
     "data": {
      "text/html": [
       "<div>\n",
       "<style scoped>\n",
       "    .dataframe tbody tr th:only-of-type {\n",
       "        vertical-align: middle;\n",
       "    }\n",
       "\n",
       "    .dataframe tbody tr th {\n",
       "        vertical-align: top;\n",
       "    }\n",
       "\n",
       "    .dataframe thead th {\n",
       "        text-align: right;\n",
       "    }\n",
       "</style>\n",
       "<table border=\"1\" class=\"dataframe\">\n",
       "  <thead>\n",
       "    <tr style=\"text-align: right;\">\n",
       "      <th></th>\n",
       "      <th>name</th>\n",
       "      <th>url</th>\n",
       "      <th>year</th>\n",
       "      <th>certificate</th>\n",
       "      <th>rating</th>\n",
       "      <th>votes</th>\n",
       "      <th>plot</th>\n",
       "      <th>Action</th>\n",
       "      <th>Adventure</th>\n",
       "      <th>Comedy</th>\n",
       "      <th>Crime</th>\n",
       "      <th>Family</th>\n",
       "      <th>Fantasy</th>\n",
       "      <th>Mystery</th>\n",
       "      <th>Sci-Fi</th>\n",
       "      <th>Thriller</th>\n",
       "    </tr>\n",
       "  </thead>\n",
       "  <tbody>\n",
       "    <tr>\n",
       "      <th>0</th>\n",
       "      <td>Spider-Man</td>\n",
       "      <td>https://www.imdb.com/title/tt5807780/?ref_=adv...</td>\n",
       "      <td>2018.0</td>\n",
       "      <td>T</td>\n",
       "      <td>9.2</td>\n",
       "      <td>20,759</td>\n",
       "      <td>When a new villain threatens New York City, Pe...</td>\n",
       "      <td>True</td>\n",
       "      <td>True</td>\n",
       "      <td>False</td>\n",
       "      <td>False</td>\n",
       "      <td>False</td>\n",
       "      <td>True</td>\n",
       "      <td>False</td>\n",
       "      <td>False</td>\n",
       "      <td>False</td>\n",
       "    </tr>\n",
       "    <tr>\n",
       "      <th>1</th>\n",
       "      <td>Red Dead Redemption II</td>\n",
       "      <td>https://www.imdb.com/title/tt6161168/?ref_=adv...</td>\n",
       "      <td>2018.0</td>\n",
       "      <td>M</td>\n",
       "      <td>9.7</td>\n",
       "      <td>35,703</td>\n",
       "      <td>Amidst the decline of the Wild West at the tur...</td>\n",
       "      <td>True</td>\n",
       "      <td>True</td>\n",
       "      <td>False</td>\n",
       "      <td>True</td>\n",
       "      <td>False</td>\n",
       "      <td>False</td>\n",
       "      <td>False</td>\n",
       "      <td>False</td>\n",
       "      <td>False</td>\n",
       "    </tr>\n",
       "    <tr>\n",
       "      <th>2</th>\n",
       "      <td>Grand Theft Auto V</td>\n",
       "      <td>https://www.imdb.com/title/tt2103188/?ref_=adv...</td>\n",
       "      <td>2013.0</td>\n",
       "      <td>M</td>\n",
       "      <td>9.5</td>\n",
       "      <td>59,986</td>\n",
       "      <td>Three very different criminals team up for a s...</td>\n",
       "      <td>True</td>\n",
       "      <td>False</td>\n",
       "      <td>False</td>\n",
       "      <td>True</td>\n",
       "      <td>False</td>\n",
       "      <td>False</td>\n",
       "      <td>False</td>\n",
       "      <td>False</td>\n",
       "      <td>False</td>\n",
       "    </tr>\n",
       "    <tr>\n",
       "      <th>3</th>\n",
       "      <td>God of War</td>\n",
       "      <td>https://www.imdb.com/title/tt5838588/?ref_=adv...</td>\n",
       "      <td>2018.0</td>\n",
       "      <td>M</td>\n",
       "      <td>9.6</td>\n",
       "      <td>26,118</td>\n",
       "      <td>After wiping out the gods of Mount Olympus, Kr...</td>\n",
       "      <td>True</td>\n",
       "      <td>True</td>\n",
       "      <td>False</td>\n",
       "      <td>False</td>\n",
       "      <td>False</td>\n",
       "      <td>False</td>\n",
       "      <td>False</td>\n",
       "      <td>False</td>\n",
       "      <td>False</td>\n",
       "    </tr>\n",
       "    <tr>\n",
       "      <th>4</th>\n",
       "      <td>Uncharted 4: A Thief's End</td>\n",
       "      <td>https://www.imdb.com/title/tt3334704/?ref_=adv...</td>\n",
       "      <td>2016.0</td>\n",
       "      <td>T</td>\n",
       "      <td>9.5</td>\n",
       "      <td>28,722</td>\n",
       "      <td>Thrown back into the dangerous underworld he'd...</td>\n",
       "      <td>True</td>\n",
       "      <td>True</td>\n",
       "      <td>False</td>\n",
       "      <td>False</td>\n",
       "      <td>False</td>\n",
       "      <td>False</td>\n",
       "      <td>False</td>\n",
       "      <td>False</td>\n",
       "      <td>False</td>\n",
       "    </tr>\n",
       "  </tbody>\n",
       "</table>\n",
       "</div>"
      ],
      "text/plain": [
       "                         name  \\\n",
       "0                  Spider-Man   \n",
       "1      Red Dead Redemption II   \n",
       "2          Grand Theft Auto V   \n",
       "3                  God of War   \n",
       "4  Uncharted 4: A Thief's End   \n",
       "\n",
       "                                                 url    year certificate  \\\n",
       "0  https://www.imdb.com/title/tt5807780/?ref_=adv...  2018.0           T   \n",
       "1  https://www.imdb.com/title/tt6161168/?ref_=adv...  2018.0           M   \n",
       "2  https://www.imdb.com/title/tt2103188/?ref_=adv...  2013.0           M   \n",
       "3  https://www.imdb.com/title/tt5838588/?ref_=adv...  2018.0           M   \n",
       "4  https://www.imdb.com/title/tt3334704/?ref_=adv...  2016.0           T   \n",
       "\n",
       "   rating   votes                                               plot  Action  \\\n",
       "0     9.2  20,759  When a new villain threatens New York City, Pe...    True   \n",
       "1     9.7  35,703  Amidst the decline of the Wild West at the tur...    True   \n",
       "2     9.5  59,986  Three very different criminals team up for a s...    True   \n",
       "3     9.6  26,118  After wiping out the gods of Mount Olympus, Kr...    True   \n",
       "4     9.5  28,722  Thrown back into the dangerous underworld he'd...    True   \n",
       "\n",
       "   Adventure  Comedy  Crime  Family  Fantasy  Mystery  Sci-Fi  Thriller  \n",
       "0       True   False  False   False     True    False   False     False  \n",
       "1       True   False   True   False    False    False   False     False  \n",
       "2      False   False   True   False    False    False   False     False  \n",
       "3       True   False  False   False    False    False   False     False  \n",
       "4       True   False  False   False    False    False   False     False  "
      ]
     },
     "execution_count": 28,
     "metadata": {},
     "output_type": "execute_result"
    }
   ],
   "source": [
    "df_vg_excel = pd.read_excel('videogames.xlsx', index_col = 0)\n",
    "df_vg_excel.head()\n",
    "\n",
    "# --- sin indez_col = 0 se imprime con Unnamed: 0"
   ]
  },
  {
   "cell_type": "markdown",
   "metadata": {},
   "source": [
    "4. Crear una carpeta llamada Files y guardar el mismo archivo en esa carpeta en formato csv"
   ]
  },
  {
   "cell_type": "code",
   "execution_count": 29,
   "metadata": {},
   "outputs": [],
   "source": [
    "df_vg.to_csv('files/videogames.csv')"
   ]
  },
  {
   "cell_type": "markdown",
   "metadata": {},
   "source": [
    "5. Copia el archivo personal.json en la carpeta Files.\n"
   ]
  },
  {
   "cell_type": "code",
   "execution_count": 49,
   "metadata": {},
   "outputs": [],
   "source": [
    "import shutil"
   ]
  },
  {
   "cell_type": "code",
   "execution_count": 50,
   "metadata": {},
   "outputs": [
    {
     "data": {
      "text/plain": [
       "'files/personal.json'"
      ]
     },
     "execution_count": 50,
     "metadata": {},
     "output_type": "execute_result"
    }
   ],
   "source": [
    "shutil.copy('../lecciones/personal.json', 'files/personal.json')"
   ]
  },
  {
   "cell_type": "markdown",
   "metadata": {},
   "source": [
    "6. Abre el json. Modificalo para poder abrirlo en Pandas"
   ]
  },
  {
   "cell_type": "code",
   "execution_count": 51,
   "metadata": {},
   "outputs": [],
   "source": [
    "with open ('files/personal.json', 'r') as fichero:\n",
    "    personal = json.load(fichero)"
   ]
  },
  {
   "cell_type": "code",
   "execution_count": 52,
   "metadata": {},
   "outputs": [
    {
     "data": {
      "text/plain": [
       "{'workers': [{'nombre': 'Ana',\n",
       "   'edad': 34,\n",
       "   'experiencia': 5,\n",
       "   'nivel': 'Senior',\n",
       "   'salario': 50000,\n",
       "   'mascota': 'gatos'},\n",
       "  {'nombre': 'Eva',\n",
       "   'edad': 37,\n",
       "   'experiencia': 2,\n",
       "   'nivel': 'Mid',\n",
       "   'salario': 35000},\n",
       "  {'nombre': 'Marta',\n",
       "   'edad': 27,\n",
       "   'experiencia': 1,\n",
       "   'nivel': 'Junior',\n",
       "   'salario': 25000},\n",
       "  {'nombre': 'Paula',\n",
       "   'edad': 30,\n",
       "   'experiencia': 3,\n",
       "   'nivel': 'Mid',\n",
       "   'salario': 35000}]}"
      ]
     },
     "execution_count": 52,
     "metadata": {},
     "output_type": "execute_result"
    }
   ],
   "source": [
    "personal"
   ]
  },
  {
   "cell_type": "code",
   "execution_count": 54,
   "metadata": {},
   "outputs": [
    {
     "name": "stdout",
     "output_type": "stream",
     "text": [
      "                                             workers\n",
      "0  {'nombre': 'Ana', 'edad': 34, 'experiencia': 5...\n",
      "1  {'nombre': 'Eva', 'edad': 37, 'experiencia': 2...\n",
      "2  {'nombre': 'Marta', 'edad': 27, 'experiencia':...\n",
      "3  {'nombre': 'Paula', 'edad': 30, 'experiencia':...\n"
     ]
    }
   ],
   "source": [
    "data_frame = pd.DataFrame(personal)\n",
    "print(data_frame)"
   ]
  }
 ],
 "metadata": {
  "kernelspec": {
   "display_name": "base",
   "language": "python",
   "name": "python3"
  },
  "language_info": {
   "codemirror_mode": {
    "name": "ipython",
    "version": 3
   },
   "file_extension": ".py",
   "mimetype": "text/x-python",
   "name": "python",
   "nbconvert_exporter": "python",
   "pygments_lexer": "ipython3",
   "version": "3.9.7"
  }
 },
 "nbformat": 4,
 "nbformat_minor": 2
}
